{
 "cells": [
  {
   "cell_type": "markdown",
   "metadata": {},
   "source": [
    "## Reading CSV and TXT file\n",
    "As we saw on previous courses we can read data simply using Python.\n",
    "\n",
    "When you want to work with a file, the first thing to do is to open it. This is done by invoking the open() built-in function.\n",
    "\n",
    "open() has a single required argument that is the path to the file and has a single return, the file object.\n",
    "\n",
    "The with statement automatically takes care of closing the file once it leaves the with block, even in cases of error."
   ]
  },
  {
   "cell_type": "code",
   "execution_count": 6,
   "metadata": {},
   "outputs": [],
   "source": [
    "import csv"
   ]
  },
  {
   "cell_type": "code",
   "execution_count": 2,
   "metadata": {},
   "outputs": [],
   "source": [
    "import pandas as pd"
   ]
  },
  {
   "cell_type": "code",
   "execution_count": 3,
   "metadata": {},
   "outputs": [
    {
     "name": "stdout",
     "output_type": "stream",
     "text": [
      "<_io.TextIOWrapper name='btc-market-price.csv' mode='r' encoding='cp1252'>\n"
     ]
    }
   ],
   "source": [
    "with open('btc-market-price.csv', 'r') as fp:\n",
    "    print(fp)"
   ]
  },
  {
   "cell_type": "markdown",
   "metadata": {},
   "source": [
    "Once the file is opened, we can read its content as follows:"
   ]
  },
  {
   "cell_type": "code",
   "execution_count": 4,
   "metadata": {},
   "outputs": [
    {
     "name": "stdout",
     "output_type": "stream",
     "text": [
      "0 2017-04-02 00:00:00,1099.169125\n",
      "\n",
      "1 2017-04-03 00:00:00,1141.813\n",
      "\n",
      "2 2017-04-04 00:00:00,1141.6003625\n",
      "\n",
      "3 2017-04-05 00:00:00,1133.0793142857142\n",
      "\n",
      "4 2017-04-06 00:00:00,1196.3079375\n",
      "\n",
      "5 2017-04-07 00:00:00,1190.45425\n",
      "\n",
      "6 2017-04-08 00:00:00,1181.1498375\n",
      "\n",
      "7 2017-04-09 00:00:00,1208.8005\n",
      "\n",
      "8 2017-04-10 00:00:00,1207.744875\n",
      "\n",
      "9 2017-04-11 00:00:00,1226.6170375\n",
      "\n"
     ]
    }
   ],
   "source": [
    "with open('btc-market-price.csv', 'r') as fp:\n",
    "    for index, line in enumerate(fp.readlines()):\n",
    "        # read just the first 10 lines\n",
    "        if (index < 10):\n",
    "            print(index, line)"
   ]
  },
  {
   "cell_type": "markdown",
   "metadata": {},
   "source": [
    "How can we process the data read from the file using pure Python? It involves a lot of manual work, for example, splitting the values by the correct separator:"
   ]
  },
  {
   "cell_type": "code",
   "execution_count": 5,
   "metadata": {},
   "outputs": [
    {
     "name": "stdout",
     "output_type": "stream",
     "text": [
      "2017-04-02 00:00:00: $1099.169125\n",
      "\n",
      "2017-04-03 00:00:00: $1141.813\n",
      "\n",
      "2017-04-04 00:00:00: $1141.6003625\n",
      "\n",
      "2017-04-05 00:00:00: $1133.0793142857142\n",
      "\n",
      "2017-04-06 00:00:00: $1196.3079375\n",
      "\n",
      "2017-04-07 00:00:00: $1190.45425\n",
      "\n",
      "2017-04-08 00:00:00: $1181.1498375\n",
      "\n",
      "2017-04-09 00:00:00: $1208.8005\n",
      "\n",
      "2017-04-10 00:00:00: $1207.744875\n",
      "\n",
      "2017-04-11 00:00:00: $1226.6170375\n",
      "\n"
     ]
    }
   ],
   "source": [
    "with open('btc-market-price.csv', 'r') as fp:\n",
    "    for index, line in enumerate(fp.readlines()):\n",
    "        # read just the first 10 lines\n",
    "        if (index < 10):\n",
    "            timestamp, price = line.split(',')\n",
    "            print(f\"{timestamp}: ${price}\")"
   ]
  },
  {
   "cell_type": "markdown",
   "metadata": {},
   "source": [
    "## The csv module\n",
    "Python includes the builtin module csv that helps a little bit more with the process of reading CSVs:\n",
    "\n",
    "import csv"
   ]
  },
  {
   "cell_type": "code",
   "execution_count": 7,
   "metadata": {},
   "outputs": [
    {
     "name": "stdout",
     "output_type": "stream",
     "text": [
      "2017-04-02 00:00:00: $1099.169125\n",
      "2017-04-03 00:00:00: $1141.813\n",
      "2017-04-04 00:00:00: $1141.6003625\n",
      "2017-04-05 00:00:00: $1133.0793142857142\n",
      "2017-04-06 00:00:00: $1196.3079375\n",
      "2017-04-07 00:00:00: $1190.45425\n",
      "2017-04-08 00:00:00: $1181.1498375\n",
      "2017-04-09 00:00:00: $1208.8005\n",
      "2017-04-10 00:00:00: $1207.744875\n",
      "2017-04-11 00:00:00: $1226.6170375\n"
     ]
    }
   ],
   "source": [
    "with open('btc-market-price.csv', 'r') as fp:\n",
    "    reader = csv.reader(fp)\n",
    "    for index, (timestamp, price) in enumerate(reader):\n",
    "        # read just the first 10 lines\n",
    "        if (index < 10):\n",
    "            print(f\"{timestamp}: ${price}\")"
   ]
  },
  {
   "cell_type": "markdown",
   "metadata": {},
   "source": [
    "The csv modules takes care of splitting the file using a given separator (called delimiter) and creating an iterator for us."
   ]
  },
  {
   "cell_type": "code",
   "execution_count": 8,
   "metadata": {},
   "outputs": [
    {
     "name": "stdout",
     "output_type": "stream",
     "text": [
      "Ray Morley (age 18) got 68,000 in Math and 75,000 in French\n",
      "Melvin Scott (age 24) got 77 in Math and 83 in French\n",
      "Amirah Haley (age 22) got 92 in Math and 67 in French\n",
      "Gerard Mills (age 19) got 78,000 in Math and 72 in French\n",
      "Amy Grimes (age 23) got 91 in Math and 81 in French\n"
     ]
    }
   ],
   "source": [
    "with open('exam_review.csv', 'r') as fp:\n",
    "    reader = csv.reader(fp, delimiter='>')  # special delimiter\n",
    "    next(reader)  # skipping header\n",
    "    for index, values in enumerate(reader):\n",
    "        if not values:\n",
    "            continue  # skip empty lines\n",
    "        fname, lname, age, math, french = values\n",
    "        print(f\"{fname} {lname} (age {age}) got {math} in Math and {french} in French\")"
   ]
  },
  {
   "cell_type": "markdown",
   "metadata": {},
   "source": [
    "## The read_csv method\n",
    "### The first method we'll learn is read_csv, that let us read comma-separated values (CSV) files and raw text (TXT) files into a DataFrame.\n",
    "\n",
    "The read_csv function is extremely powerful and you can specify a very broad set of parameters at import time that allow us to accurately configure how the data will be read and parsed by specifying the correct structure, enconding and other details. The most common parameters are as follows:\n",
    "\n",
    ">filepath: Path of the file to be read.\n",
    "\n",
    ">sep: Character(s) that are used as a field separator in the file.\n",
    "\n",
    ">header: Index of the row containing the names of the columns (None if none).\n",
    "\n",
    ">index_col: Index of the column or sequence of indexes that should be used as index of rows of the data.\n",
    "\n",
    ">names: Sequence containing the names of the columns (used together with header = None).\n",
    "\n",
    ">skiprows: Number of rows or sequence of row indexes to ignore in the load.\n",
    "\n",
    ">na_values: Sequence of values that, if found in the file, should be treated as NaN.\n",
    "\n",
    ">dtype: Dictionary in which the keys will be column names and the values will be types of NumPy to which their content must be converted.\n",
    "\n",
    ">parse_dates: Flag that indicates if Python should try to parse data with a format similar to dates as dates. You can enter >a list of column names that must be joined for the parsing as a date.\n",
    "\n",
    ">date_parser: Function to use to try to parse dates.\n",
    "\n",
    ">nrows: Number of rows to read from the beginning of the file.\n",
    "\n",
    ">skip_footer: Number of rows to ignore at the end of the file.\n",
    "\n",
    ">encoding: Encoding to be expected from the file read.\n",
    "\n",
    ">squeeze: Flag that indicates that if the data read only contains one column the result is a Series instead of a DataFrame.\n",
    "\n",
    ">thousands: Character to use to detect the thousands separator.\n",
    "\n",
    ">decimal: Character to use to detect the decimal separator.\n",
    "\n",
    ">skip_blank_lines: Flag that indicates whether blank lines should be ignored.\n",
    "\n",
    "Full read_csv documentation can be found here: https://pandas.pydata.org/pandas-docs/stable/reference/api/pandas.read_csv.html.\n",
    "\n",
    "In this case we'll try to read our btc-market-price.csv CSV file using different parameters to parse it correctly.\n",
    "\n",
    "This file contains records of the mean price of Bitcoin per date.\n",
    "\n"
   ]
  },
  {
   "cell_type": "code",
   "execution_count": 9,
   "metadata": {},
   "outputs": [
    {
     "data": {
      "text/html": [
       "<div>\n",
       "<style scoped>\n",
       "    .dataframe tbody tr th:only-of-type {\n",
       "        vertical-align: middle;\n",
       "    }\n",
       "\n",
       "    .dataframe tbody tr th {\n",
       "        vertical-align: top;\n",
       "    }\n",
       "\n",
       "    .dataframe thead th {\n",
       "        text-align: right;\n",
       "    }\n",
       "</style>\n",
       "<table border=\"1\" class=\"dataframe\">\n",
       "  <thead>\n",
       "    <tr style=\"text-align: right;\">\n",
       "      <th></th>\n",
       "      <th>Country Name</th>\n",
       "      <th>Country Code</th>\n",
       "      <th>Year</th>\n",
       "      <th>Value</th>\n",
       "    </tr>\n",
       "  </thead>\n",
       "  <tbody>\n",
       "    <tr>\n",
       "      <th>0</th>\n",
       "      <td>Arab World</td>\n",
       "      <td>ARB</td>\n",
       "      <td>1968</td>\n",
       "      <td>2.576068e+10</td>\n",
       "    </tr>\n",
       "    <tr>\n",
       "      <th>1</th>\n",
       "      <td>Arab World</td>\n",
       "      <td>ARB</td>\n",
       "      <td>1969</td>\n",
       "      <td>2.843420e+10</td>\n",
       "    </tr>\n",
       "    <tr>\n",
       "      <th>2</th>\n",
       "      <td>Arab World</td>\n",
       "      <td>ARB</td>\n",
       "      <td>1970</td>\n",
       "      <td>3.138550e+10</td>\n",
       "    </tr>\n",
       "    <tr>\n",
       "      <th>3</th>\n",
       "      <td>Arab World</td>\n",
       "      <td>ARB</td>\n",
       "      <td>1971</td>\n",
       "      <td>3.642691e+10</td>\n",
       "    </tr>\n",
       "    <tr>\n",
       "      <th>4</th>\n",
       "      <td>Arab World</td>\n",
       "      <td>ARB</td>\n",
       "      <td>1972</td>\n",
       "      <td>4.331606e+10</td>\n",
       "    </tr>\n",
       "  </tbody>\n",
       "</table>\n",
       "</div>"
      ],
      "text/plain": [
       "  Country Name Country Code  Year         Value\n",
       "0   Arab World          ARB  1968  2.576068e+10\n",
       "1   Arab World          ARB  1969  2.843420e+10\n",
       "2   Arab World          ARB  1970  3.138550e+10\n",
       "3   Arab World          ARB  1971  3.642691e+10\n",
       "4   Arab World          ARB  1972  4.331606e+10"
      ]
     },
     "execution_count": 9,
     "metadata": {},
     "output_type": "execute_result"
    }
   ],
   "source": [
    "csv_url = \"https://raw.githubusercontent.com/datasets/gdp/master/data/gdp.csv\"\n",
    "\n",
    "pd.read_csv(csv_url).head()"
   ]
  },
  {
   "cell_type": "markdown",
   "metadata": {},
   "source": [
    " ## Missing values with na_values parameter\n",
    "###  We can define a na_values parameter with the values we want to be recognized as NA/NaN. In this case empty strings '', ? and - will be recognized as null values."
   ]
  },
  {
   "cell_type": "code",
   "execution_count": 10,
   "metadata": {},
   "outputs": [
    {
     "data": {
      "text/html": [
       "<div>\n",
       "<style scoped>\n",
       "    .dataframe tbody tr th:only-of-type {\n",
       "        vertical-align: middle;\n",
       "    }\n",
       "\n",
       "    .dataframe tbody tr th {\n",
       "        vertical-align: top;\n",
       "    }\n",
       "\n",
       "    .dataframe thead th {\n",
       "        text-align: right;\n",
       "    }\n",
       "</style>\n",
       "<table border=\"1\" class=\"dataframe\">\n",
       "  <thead>\n",
       "    <tr style=\"text-align: right;\">\n",
       "      <th></th>\n",
       "      <th>0</th>\n",
       "      <th>1</th>\n",
       "    </tr>\n",
       "  </thead>\n",
       "  <tbody>\n",
       "    <tr>\n",
       "      <th>0</th>\n",
       "      <td>2017-04-02 00:00:00</td>\n",
       "      <td>1099.169125</td>\n",
       "    </tr>\n",
       "    <tr>\n",
       "      <th>1</th>\n",
       "      <td>2017-04-03 00:00:00</td>\n",
       "      <td>1141.813000</td>\n",
       "    </tr>\n",
       "    <tr>\n",
       "      <th>2</th>\n",
       "      <td>2017-04-04 00:00:00</td>\n",
       "      <td>1141.600363</td>\n",
       "    </tr>\n",
       "    <tr>\n",
       "      <th>3</th>\n",
       "      <td>2017-04-05 00:00:00</td>\n",
       "      <td>1133.079314</td>\n",
       "    </tr>\n",
       "    <tr>\n",
       "      <th>4</th>\n",
       "      <td>2017-04-06 00:00:00</td>\n",
       "      <td>1196.307937</td>\n",
       "    </tr>\n",
       "  </tbody>\n",
       "</table>\n",
       "</div>"
      ],
      "text/plain": [
       "                     0            1\n",
       "0  2017-04-02 00:00:00  1099.169125\n",
       "1  2017-04-03 00:00:00  1141.813000\n",
       "2  2017-04-04 00:00:00  1141.600363\n",
       "3  2017-04-05 00:00:00  1133.079314\n",
       "4  2017-04-06 00:00:00  1196.307937"
      ]
     },
     "execution_count": 10,
     "metadata": {},
     "output_type": "execute_result"
    }
   ],
   "source": [
    "df = pd.read_csv('btc-market-price.csv',\n",
    "                 header=None,\n",
    "                 na_values=['', '?', '-'])\n",
    "df.head()"
   ]
  },
  {
   "cell_type": "code",
   "execution_count": null,
   "metadata": {},
   "outputs": [],
   "source": []
  }
 ],
 "metadata": {
  "kernelspec": {
   "display_name": "Python 3",
   "language": "python",
   "name": "python3"
  },
  "language_info": {
   "codemirror_mode": {
    "name": "ipython",
    "version": 3
   },
   "file_extension": ".py",
   "mimetype": "text/x-python",
   "name": "python",
   "nbconvert_exporter": "python",
   "pygments_lexer": "ipython3",
   "version": "3.7.7"
  }
 },
 "nbformat": 4,
 "nbformat_minor": 4
}
